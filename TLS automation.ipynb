{
 "cells": [
  {
   "cell_type": "code",
   "execution_count": null,
   "metadata": {
    "collapsed": true,
    "pycharm": {
     "is_executing": true
    }
   },
   "outputs": [],
   "source": [
    "import csv\n",
    "%matplotlib inline\n",
    "\n",
    "file = open('tess-ebs.csv')\n",
    "dictReader = csv.DictReader(file)\n",
    "\n",
    "EB_dictionary = {}\n",
    "num = 0\n",
    "for row in dictReader:\n",
    "    if num == 10:\n",
    "        break\n",
    "    else:\n",
    "        num += 1\n",
    "\n",
    "    EB_dictionary.update({row['tess_id']: row})\n",
    "\n",
    "EB_dictionary.keys()"
   ]
  },
  {
   "cell_type": "code",
   "execution_count": null,
   "outputs": [],
   "source": [
    "import time\n",
    "import warnings\n",
    "warnings.filterwarnings('ignore')\n",
    "import eleanor\n",
    "import matplotlib.pyplot as plt\n",
    "import numpy as np\n",
    "import lightkurve as lk\n",
    "from transitleastsquares import transitleastsquares\n",
    "\n",
    "plt.rcParams['font.size'] = 16\n",
    "\n",
    "BLS_period_dict = {}\n",
    "TLS_period_dict = {}\n",
    "\n",
    "BLS_time = 0\n",
    "TLS_time = 0\n",
    "\n",
    "for key in EB_dictionary:\n",
    "    try:\n",
    "        star = eleanor.Source(tic=key, sector='recent')\n",
    "        data = eleanor.TargetData(star, height=15, width=15, bkg_size=31, do_psf=False, do_pca=True, regressors='corner')\n",
    "\n",
    "        print(key)\n",
    "    except:\n",
    "        continue\n",
    "    else:\n",
    "        lc = data.to_lightkurve()\n",
    "        lc = lc.normalize().flatten(window_length=901)\n",
    "\n",
    "        period = np.linspace(0.07, 25, 10000)\n",
    "\n",
    "        start_time = time.time()\n",
    "        bls = lc.to_periodogram(method='bls', period=period, frequency_factor=500, minimum_period=0.07, duration=0.06)\n",
    "        end_time = time.time()\n",
    "\n",
    "        BLS_time = end_time - start_time\n",
    "\n",
    "        system_period = bls.period_at_max_power * 2\n",
    "        # planet_b_t0 = bls.transit_time_at_max_power\n",
    "        # planet_b_dur = bls.duration_at_max_power\n",
    "        #\n",
    "        # ax = lc.fold(period=planet_b_period, epoch_time=planet_b_t0).scatter()\n",
    "        # ax.set_xlim(-1, 1)\n",
    "\n",
    "        BLS_period_dict.update({key : system_period})\n",
    "\n",
    "        start_time = time.time()\n",
    "        model = transitleastsquares(lc.time.value, lc.flux.value)\n",
    "        results = model.power(period_min=0.1, period_max=25.0)\n",
    "        end_time = time.time()\n",
    "\n",
    "        TLS_time = end_time - start_time\n",
    "\n",
    "        TLS_period_dict.update({key : max(results.periods) * 2})\n",
    "\n",
    "\n",
    "\n",
    "BLS_time / 10, TLS_time / 10"
   ],
   "metadata": {
    "collapsed": false,
    "pycharm": {
     "is_executing": true
    }
   }
  },
  {
   "cell_type": "code",
   "execution_count": null,
   "outputs": [],
   "source": [
    "BLS_period_dict"
   ],
   "metadata": {
    "collapsed": false,
    "pycharm": {
     "is_executing": true
    }
   }
  },
  {
   "cell_type": "code",
   "execution_count": null,
   "outputs": [],
   "source": [],
   "metadata": {
    "collapsed": false,
    "pycharm": {
     "is_executing": true
    }
   }
  }
 ],
 "metadata": {
  "kernelspec": {
   "display_name": "Python 3",
   "language": "python",
   "name": "python3"
  },
  "language_info": {
   "codemirror_mode": {
    "name": "ipython",
    "version": 2
   },
   "file_extension": ".py",
   "mimetype": "text/x-python",
   "name": "python",
   "nbconvert_exporter": "python",
   "pygments_lexer": "ipython2",
   "version": "2.7.6"
  }
 },
 "nbformat": 4,
 "nbformat_minor": 0
}
