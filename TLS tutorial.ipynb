{
 "cells": [
  {
   "cell_type": "code",
   "execution_count": null,
   "outputs": [],
   "source": [
    "import numpy\n",
    "import batman\n",
    "import matplotlib.pyplot as plt\n",
    "from matplotlib import rcParams; rcParams[\"figure.dpi\"] = 150\n",
    "\n",
    "numpy.random.seed(seed=0)  # reproducibility\n",
    "\n",
    "# Create test data\n",
    "time_start = 3.14\n",
    "data_duration = 40\n",
    "samples_per_day = 48\n",
    "samples = int(data_duration * samples_per_day)\n",
    "time = numpy.linspace(time_start, time_start + data_duration, samples)\n",
    "\n",
    "# Use batman to create transits\n",
    "ma = batman.TransitParams()\n",
    "ma.t0 = time_start  # time of inferior conjunction; first transit is X days after start\n",
    "ma.per = 10.123  # orbital period\n",
    "ma.rp = 6371 / 696342  # 6371 planet radius (in units of stellar radii)\n",
    "ma.a = 19  # semi-major axis (in units of stellar radii)\n",
    "ma.inc = 90  # orbital inclination (in degrees)\n",
    "ma.ecc = 0  # eccentricity\n",
    "ma.w = 90  # longitude of periastron (in degrees)\n",
    "ma.u = [0.4, 0.4]  # limb darkening coefficients\n",
    "ma.limb_dark = \"quadratic\"  # limb darkening model\n",
    "m = batman.TransitModel(ma, time)  # initializes model\n",
    "synthetic_signal = m.light_curve(ma)  # calculates light curve\n",
    "\n",
    "# Create noise and merge with flux\n",
    "ppm = 50  # Noise level in parts per million\n",
    "noise = numpy.random.normal(0, 10**-6 * ppm, int(samples))\n",
    "flux = synthetic_signal + noise\n",
    "\n",
    "# Plot raw data\n",
    "plt.figure()\n",
    "ax = plt.gca()\n",
    "ax.scatter(time, flux, color='black', s=1)\n",
    "ax.set_ylabel(\"Flux\")\n",
    "ax.set_xlabel(\"Time (days)\")\n",
    "plt.xlim(min(time), max(time))\n",
    "plt.ylim(0.999, 1.001);"
   ],
   "metadata": {
    "collapsed": false,
    "pycharm": {
     "is_executing": true
    }
   }
  },
  {
   "cell_type": "code",
   "execution_count": null,
   "outputs": [],
   "source": [
    "from transitleastsquares import transitleastsquares\n",
    "model = transitleastsquares(time, flux)\n",
    "results = model.power()"
   ],
   "metadata": {
    "collapsed": false
   }
  },
  {
   "cell_type": "code",
   "execution_count": null,
   "outputs": [],
   "source": [
    "print('Period', format(results.period, '.5f'), 'd')\n",
    "print(len(results.transit_times), 'transit times in time series:', \\\n",
    "        ['{0:0.5f}'.format(i) for i in results.transit_times])\n",
    "print('Transit depth', format(results.depth, '.5f'))\n",
    "print('Best duration (days)', format(results.duration, '.5f'))\n",
    "print('Signal detection efficiency (SDE):', results.SDE)"
   ],
   "metadata": {
    "collapsed": false
   }
  },
  {
   "cell_type": "code",
   "execution_count": null,
   "outputs": [],
   "source": [
    "plt.figure()\n",
    "ax = plt.gca()\n",
    "ax.axvline(results.period, alpha=0.4, lw=3)\n",
    "plt.xlim(numpy.min(results.periods), numpy.max(results.periods))\n",
    "for n in range(2, 10):\n",
    "    ax.axvline(n*results.period, alpha=0.4, lw=1, linestyle=\"dashed\")\n",
    "    ax.axvline(results.period / n, alpha=0.4, lw=1, linestyle=\"dashed\")\n",
    "plt.ylabel(r'SDE')\n",
    "plt.xlabel('Period (days)')\n",
    "plt.plot(results.periods, results.power, color='black', lw=0.5)\n",
    "plt.xlim(0, max(results.periods))\n",
    "\n",
    "plt.figure()\n",
    "plt.plot(results.model_folded_phase, results.model_folded_model, color='red')\n",
    "plt.scatter(results.folded_phase, results.folded_y, color='blue', s=10, alpha=0.5, zorder=2)\n",
    "plt.xlim(0.48, 0.52)\n",
    "plt.ticklabel_format(useOffset=False)\n",
    "plt.xlabel('Phase')\n",
    "plt.ylabel('Relative flux');"
   ],
   "metadata": {
    "collapsed": false
   }
  },
  {
   "cell_type": "code",
   "execution_count": null,
   "outputs": [],
   "source": [
    "from scipy import stats\n",
    "bins = 500\n",
    "bin_means, bin_edges, binnumber = stats.binned_statistic(\n",
    "    results.folded_phase,\n",
    "    results.folded_y,\n",
    "    statistic='mean',\n",
    "    bins=bins)\n",
    "bin_stds, _, _ = stats.binned_statistic(\n",
    "    results.folded_phase,\n",
    "    results.folded_y,\n",
    "    statistic='std',\n",
    "    bins=bins)\n",
    "bin_width = (bin_edges[1] - bin_edges[0])\n",
    "bin_centers = bin_edges[1:] - bin_width/2\n",
    "\n",
    "plt.plot(results.model_folded_phase, results.model_folded_model, color='red')\n",
    "plt.scatter(results.folded_phase, results.folded_y, color='blue', s=10, alpha=0.5, zorder=2)\n",
    "plt.errorbar(\n",
    "    bin_centers,\n",
    "    bin_means,\n",
    "    yerr=bin_stds/2,\n",
    "    xerr=bin_width/2,\n",
    "    marker='o',\n",
    "    markersize=8,\n",
    "    color='black',\n",
    "    #capsize=10,\n",
    "    linestyle='none')\n",
    "plt.xlim(0.48, 0.52)\n",
    "plt.ticklabel_format(useOffset=False)\n",
    "plt.xlabel('Phase')\n",
    "plt.ylabel('Relative flux');"
   ],
   "metadata": {
    "collapsed": false
   }
  },
  {
   "cell_type": "code",
   "execution_count": null,
   "outputs": [],
   "source": [
    "import warnings\n",
    "warnings.filterwarnings('ignore')\n",
    "import eleanor\n",
    "import matplotlib.pyplot as plt\n",
    "import numpy as np\n",
    "\n",
    "star = eleanor.Source(tic=91961, sector=11)\n",
    "data = eleanor.TargetData(star, height=15, width=15, bkg_size=31, do_psf=False, do_pca=True, regressors='corner')\n",
    "plt.figure(figsize=(15,5))\n",
    "q = data.quality == 0\n",
    "\n",
    "lk = data.to_lightkurve()\n",
    "period = np.linspace(1, 15, 10000)\n",
    "bls = lk.to_periodogram(method='bls', period=period, frequency_factor=500)\n",
    "\n",
    "period = bls.period_at_max_power.value * 2\n",
    "t0 = bls.transit_time_at_max_power.value\n",
    "duration = bls.duration_at_max_power\n",
    "\n",
    "period, t0, duration"
   ],
   "metadata": {
    "collapsed": false
   }
  },
  {
   "cell_type": "code",
   "execution_count": null,
   "outputs": [],
   "source": [],
   "metadata": {
    "collapsed": false
   }
  }
 ],
 "metadata": {
  "kernelspec": {
   "display_name": "Python 3",
   "language": "python",
   "name": "python3"
  },
  "language_info": {
   "codemirror_mode": {
    "name": "ipython",
    "version": 2
   },
   "file_extension": ".py",
   "mimetype": "text/x-python",
   "name": "python",
   "nbconvert_exporter": "python",
   "pygments_lexer": "ipython2",
   "version": "2.7.6"
  }
 },
 "nbformat": 4,
 "nbformat_minor": 0
}
